{
 "cells": [
  {
   "cell_type": "code",
   "execution_count": 1,
   "metadata": {},
   "outputs": [],
   "source": [
    "import pickle as pkl\n",
    "import numpy as np\n",
    "import torch\n",
    "import torchvision\n",
    "import matplotlib.pyplot as plt"
   ]
  },
  {
   "cell_type": "code",
   "execution_count": 3,
   "metadata": {},
   "outputs": [],
   "source": [
    "with open(\"./data_sample.pkl\", \"rb\") as file:\n",
    "    shapenet = pkl.load(file)"
   ]
  },
  {
   "cell_type": "code",
   "execution_count": 4,
   "metadata": {},
   "outputs": [
    {
     "name": "stdout",
     "output_type": "stream",
     "text": [
      "idx: (900, 3, 224, 224)\n",
      "idx: (900, 3, 224, 224)\n",
      "idx: (900, 3)\n",
      "idx: (900,)\n",
      "idx: (900,)\n",
      "idx: (900, 9)\n",
      "idx: (900,)\n"
     ]
    }
   ],
   "source": [
    "data_tuple = []\n",
    "for idx in range(7):\n",
    "    X = np.array([shapenet[entry][idx] for entry in range(900)])\n",
    "    if idx == 3:\n",
    "        X = X-1\n",
    "    X = np.squeeze(X)\n",
    "    data_tuple.append(X)\n",
    "    \n",
    "    print(f\"idx: {X.shape}\")\n",
    "#     print(X[0])"
   ]
  },
  {
   "cell_type": "code",
   "execution_count": 5,
   "metadata": {},
   "outputs": [],
   "source": [
    "from matplotlib.colors import hsv_to_rgb\n",
    "from PIL import Image\n",
    "\n",
    "def display_PIL(nparray):\n",
    "    image = Image.fromarray(nparray,'L')\n",
    "    image.show()\n",
    "\n",
    "def make_grid(imgs_batch):\n",
    "    \n",
    "    if isinstance(imgs_batch, np.ndarray):\n",
    "        imgs_batch = torch.Tensor(imgs_batch)\n",
    "    \n",
    "    def show(img):\n",
    "        npimg = img.numpy()\n",
    "        plt.imshow(np.transpose(npimg, (1, 2, 0)))\n",
    "#         plt.imshow(npimg)\n",
    "\n",
    "    grid = torchvision.utils.make_grid(imgs_batch, nrow=1, padding=100)\n",
    "    show(grid)"
   ]
  },
  {
   "cell_type": "code",
   "execution_count": 17,
   "metadata": {},
   "outputs": [
    {
     "name": "stderr",
     "output_type": "stream",
     "text": [
      "Clipping input data to the valid range for imshow with RGB data ([0..1] for floats or [0..255] for integers).\n"
     ]
    },
    {
     "data": {
      "text/plain": [
       "(array([0, 0, 0, ..., 2, 2, 2]),\n",
       " array([ 36,  36,  36, ..., 137, 137, 137]),\n",
       " array([  0,   1,   2, ..., 117, 118, 119]))"
      ]
     },
     "execution_count": 17,
     "metadata": {},
     "output_type": "execute_result"
    },
    {
     "data": {
      "image/png": "[encoded data removed]",
      "text/plain": [
       "<Figure size 432x288 with 1 Axes>"
      ]
     },
     "metadata": {
      "needs_background": "light"
     },
     "output_type": "display_data"
    }
   ],
   "source": [
    "make_grid(data_tuple[0][5])\n",
    "# display_PIL(data_tuple[0][3])\n",
    "\n",
    "# data_tuple[0][3][data_tuple[0][3] > 0]\n",
    "\n",
    "# np.where(data_tuple[0][3] > 1)\n",
    "\n",
    "np.where(shapenet[3][0] > 1)"
   ]
  },
  {
   "cell_type": "code",
   "execution_count": null,
   "metadata": {},
   "outputs": [],
   "source": [
    "data_tuple[2][2]"
   ]
  },
  {
   "cell_type": "code",
   "execution_count": 8,
   "metadata": {},
   "outputs": [
    {
     "data": {
      "text/plain": [
       "(array([  5,  14,  23,  32,  41,  50,  59,  68,  77,  86,  95, 104, 113,\n",
       "        122, 131, 140, 149, 158, 167, 176, 184, 193, 202, 211, 220, 229,\n",
       "        238, 247, 256, 265, 271, 280, 289, 298, 307, 316, 325, 334, 343,\n",
       "        352, 365, 374, 383, 392, 401, 410, 419, 428, 437, 446, 455, 464,\n",
       "        473, 482, 491, 500, 509, 518, 527, 536, 544, 553, 562, 571, 580,\n",
       "        589, 598, 607, 616, 625, 631, 640, 649, 658, 667, 676, 685, 694,\n",
       "        703, 712, 725, 734, 743, 752, 761, 770, 779, 788, 797, 806, 814,\n",
       "        823, 832, 841, 850, 859, 868, 877, 886, 895]),)"
      ]
     },
     "execution_count": 8,
     "metadata": {},
     "output_type": "execute_result"
    }
   ],
   "source": [
    "np.where(data_tuple[-1] == 1)"
   ]
  },
  {
   "cell_type": "code",
   "execution_count": null,
   "metadata": {},
   "outputs": [],
   "source": [
    "set(data_tuple[4])"
   ]
  },
  {
   "cell_type": "code",
   "execution_count": 18,
   "metadata": {},
   "outputs": [
    {
     "data": {
      "text/plain": [
       "369191"
      ]
     },
     "execution_count": 18,
     "metadata": {},
     "output_type": "execute_result"
    }
   ],
   "source": [
    "np.sum(data_tuple[0][5])"
   ]
  },
  {
   "cell_type": "code",
   "execution_count": null,
   "metadata": {},
   "outputs": [],
   "source": []
  }
 ],
 "metadata": {
  "kernelspec": {
   "display_name": "Python 3",
   "language": "python",
   "name": "python3"
  },
  "language_info": {
   "codemirror_mode": {
    "name": "ipython",
    "version": 3
   },
   "file_extension": ".py",
   "mimetype": "text/x-python",
   "name": "python",
   "nbconvert_exporter": "python",
   "pygments_lexer": "ipython3",
   "version": "3.6.10"
  }
 },
 "nbformat": 4,
 "nbformat_minor": 4
}
